{
 "cells": [
  {
   "cell_type": "code",
   "execution_count": 1,
   "metadata": {},
   "outputs": [],
   "source": [
    "import os\n",
    "import sys\n",
    "import cv2\n",
    "import random\n",
    "import numpy as np\n",
    "import pandas as pd\n",
    "import seaborn as sns\n",
    "import multiprocessing as mp\n",
    "import matplotlib.pyplot as plt\n",
    "from tqdm import tqdm\n",
    "from netCDF4 import Dataset\n",
    "from functools import partial\n",
    "from collections import defaultdict\n",
    "from datetime import timedelta, date"
   ]
  },
  {
   "cell_type": "code",
   "execution_count": 6,
   "metadata": {},
   "outputs": [
    {
     "name": "stdout",
     "output_type": "stream",
     "text": [
      "/home/sarthakj/code/AI/projects/summers/summer_2024/AFRL/env_pred/preprocessing \n",
      " /home/sarthakj/data/MultiEarth/multiearth2023-dataset-final/data\n"
     ]
    }
   ],
   "source": [
    "cwd = os.getcwd()\n",
    "data_directory = open('path_to_data.txt').read()\n",
    "print(cwd, '\\n', data_directory)"
   ]
  },
  {
   "cell_type": "markdown",
   "metadata": {},
   "source": [
    "### netCDF date interpreter Function"
   ]
  },
  {
   "cell_type": "code",
   "execution_count": 3,
   "metadata": {},
   "outputs": [],
   "source": [
    "def date_from_date_delta(n, date='2018-12-13'):\n",
    "    date = pd.to_datetime(date)\n",
    "    return (date + timedelta(days=int(n))).strftime('%Y-%m-%d')\n",
    "\n",
    "def delta_from_date_date(date, date0='2018-12-13'):\n",
    "    date0 = pd.to_datetime(date0)\n",
    "    date = pd.to_datetime(date)\n",
    "    return (date - date0).days"
   ]
  },
  {
   "cell_type": "markdown",
   "metadata": {},
   "source": [
    "### NP Array Metadata Function"
   ]
  },
  {
   "cell_type": "code",
   "execution_count": 4,
   "metadata": {},
   "outputs": [],
   "source": [
    "def np_metadata(arr, name='Array', print_unique_values=False, print_unique_counts=False):\n",
    "    print()\n",
    "    print('Name:', name)\n",
    "    print('\\tShape:', arr.shape)\n",
    "    print('\\tSize:', arr.size)\n",
    "    print('\\tDimensions:', arr.ndim)\n",
    "    print('\\tDtype:', arr.dtype)\n",
    "    print('\\tMemory Usage:', arr.nbytes, 'bytes')\n",
    "    print('\\tNum Unique Values:', np.unique(arr).size)\n",
    "    if '<U' not in str(arr.dtype):\n",
    "        print('\\tMIN:', arr.min())\n",
    "        print('\\tMAX:', arr.max())\n",
    "    if print_unique_counts:\n",
    "        print(\"(Value, Count): \", end='')\n",
    "        for value, count in zip(*np.unique(arr, return_counts=True)):\n",
    "            print(f'({value}, {count})', end=' ')\n",
    "    elif print_unique_values:\n",
    "        print('\\tUnique Values:', np.unique(arr))\n",
    "    print('\\tPreview:', arr[:10])\n",
    "    print()\n",
    "\n",
    "def np_metadata_image(image, name='Image', print_unique_values=False):\n",
    "    print()\n",
    "    print('Name:', name)\n",
    "    print('\\tShape:', image.shape)\n",
    "    print('\\tSize:', image.size)\n",
    "    print('\\tDimensions:', image.ndim)\n",
    "    print('\\tDtype:', image.dtype)\n",
    "    print('\\tMemory Usage:', image.nbytes, 'bytes')\n",
    "    print('\\tMIN:', image.min())\n",
    "    print('\\tMAX:', image.max())\n",
    "    print('\\tNum Unique Values:', np.unique(image).size)\n",
    "    if print_unique_values:\n",
    "        print('\\tUnique Values:', np.unique(image))\n",
    "    '''\n",
    "    print('\\tPreview:')\n",
    "    plt.imshow(image)\n",
    "    plt.axis('off')\n",
    "    plt.show()\n",
    "    '''\n",
    "    print()"
   ]
  },
  {
   "cell_type": "markdown",
   "metadata": {},
   "source": [
    "# Combine Data"
   ]
  },
  {
   "cell_type": "code",
   "execution_count": 7,
   "metadata": {},
   "outputs": [
    {
     "name": "stdout",
     "output_type": "stream",
     "text": [
      "\n",
      "Name: Coordinates\n",
      "\tShape: (2, 427813)\n",
      "\tSize: 855626\n",
      "\tDimensions: 2\n",
      "\tDtype: float64\n",
      "\tMemory Usage: 6845008 bytes\n",
      "\tNum Unique Values: 88\n",
      "\tMIN: -55.2\n",
      "\tMAX: -3.33\n",
      "\tPreview: [[ -4.39  -4.39  -4.39 ...  -3.87  -3.87  -3.87]\n",
      " [-55.2  -55.2  -55.2  ... -54.8  -54.8  -54.8 ]]\n",
      "\n",
      "Number of Processes: 12\n"
     ]
    },
    {
     "name": "stderr",
     "output_type": "stream",
     "text": [
      "100%|██████████| 427813/427813 [00:18<00:00, 23253.98it/s]\n"
     ]
    },
    {
     "name": "stdout",
     "output_type": "stream",
     "text": [
      "\n",
      "Name: Dates\n",
      "\tShape: (427813,)\n",
      "\tSize: 427813\n",
      "\tDimensions: 1\n",
      "\tDtype: <U10\n",
      "\tMemory Usage: 17112520 bytes\n",
      "\tNum Unique Values: 441\n",
      "\tPreview: ['2018-12-13' '2018-12-18' '2018-12-23' '2018-12-28' '2019-01-02'\n",
      " '2019-01-07' '2019-01-12' '2019-01-17' '2019-01-22' '2019-01-27']\n",
      "\n"
     ]
    }
   ],
   "source": [
    "Original_sent2 = Dataset(os.path.join(data_directory, 'sent2_b1-b4_train.nc'))\n",
    "Additional_sent2 = Dataset(os.path.join(data_directory, 'sent2_deforestation_segmentation.nc'))\n",
    "\n",
    "# Coordinates\n",
    "Original_COORDS = np.array(Original_sent2.variables['center_lat_lons']).T\n",
    "Additional_COORDS = np.array(Additional_sent2.variables['center_lat_lons']).T\n",
    "COORDS = np.concatenate((Original_COORDS, Additional_COORDS), axis=1)\n",
    "np_metadata(COORDS, 'Coordinates')\n",
    "\n",
    "# Dates\n",
    "Original_DATES = np.array(Original_sent2.variables['collection_dates'])\n",
    "Additional_DATES = np.array(Additional_sent2.variables['collection_dates'])\n",
    "Combined_DATES_ARR = np.concatenate((Original_DATES, Additional_DATES), axis=0)\n",
    "DATES = []\n",
    "num_processes = mp.cpu_count()\n",
    "print('Number of Processes:', num_processes)\n",
    "pool = mp.Pool(processes=num_processes)\n",
    "args = [(str(NUM)) for NUM in Combined_DATES_ARR]\n",
    "partial_date_from_date_delta = partial(date_from_date_delta, date='2018-12-13')\n",
    "for outputs in tqdm(pool.imap(partial_date_from_date_delta, args), total=len(args)):\n",
    "    DATES.append(outputs)\n",
    "    pass\n",
    "pool.close()\n",
    "pool.join()\n",
    "DATES = np.array(DATES)\n",
    "np_metadata(DATES, 'Dates')\n",
    "\n",
    "# Data Bands\n",
    "Original_DATA_BANDS = np.array(Original_sent2.variables['data_band'])\n",
    "Additional_DATA_BANDS = np.array(Additional_sent2.variables['data_band'])\n",
    "Additional_DATA_BANDS_DICT = {Additional_DATA_BANDS[i] : i for i in range(Additional_DATA_BANDS.shape[0])}\n",
    "DATA_BANDS = Original_DATA_BANDS\n",
    "\n",
    "# Images\n",
    "def get_image(idx):\n",
    "    Original_num_images = Original_sent2.variables['images'].shape[0]\n",
    "    Additional_num_images = Additional_sent2.variables['images'].shape[0]\n",
    "    if idx < Original_num_images:\n",
    "        return np.array(Original_sent2.variables['images'][idx])\n",
    "    else:\n",
    "        idx -= Original_num_images\n",
    "        img = np.array(Additional_sent2.variables['images'][idx])\n",
    "        img = img[[Additional_DATA_BANDS_DICT[band] for band in DATA_BANDS]]\n",
    "        return img"
   ]
  },
  {
   "cell_type": "markdown",
   "metadata": {},
   "source": [
    "# Analyze Valid Data"
   ]
  },
  {
   "cell_type": "markdown",
   "metadata": {},
   "source": [
    "## Helpful Functions"
   ]
  },
  {
   "cell_type": "code",
   "execution_count": 8,
   "metadata": {},
   "outputs": [],
   "source": [
    "# Images\n",
    "def get_image(idx):\n",
    "    Original_num_images = Original_sent2.variables['images'].shape[0]\n",
    "    Additional_num_images = Additional_sent2.variables['images'].shape[0]\n",
    "    if idx < Original_num_images:\n",
    "        return np.array(Original_sent2.variables['images'][idx])\n",
    "    else:\n",
    "        idx -= Original_num_images\n",
    "        img = np.array(Additional_sent2.variables['images'][idx])\n",
    "        img = img[[Additional_DATA_BANDS_DICT[band] for band in DATA_BANDS]]\n",
    "        return img\n",
    "    \n",
    "def normalize_image(image):\n",
    "    percentile = np.percentile(image, [5, 95])\n",
    "    image = np.clip(image, percentile[0], percentile[1])\n",
    "    image = (image - percentile[0]) / (percentile[1] - percentile[0])\n",
    "    return image"
   ]
  },
  {
   "cell_type": "markdown",
   "metadata": {},
   "source": [
    "## Valid Metadata"
   ]
  },
  {
   "cell_type": "markdown",
   "metadata": {},
   "source": [
    "### Organize Data"
   ]
  },
  {
   "cell_type": "code",
   "execution_count": 9,
   "metadata": {},
   "outputs": [
    {
     "name": "stdout",
     "output_type": "stream",
     "text": [
      "\n",
      "Name: Valid Image Indexes\n",
      "\tShape: (79749,)\n",
      "\tSize: 79749\n",
      "\tDimensions: 1\n",
      "\tDtype: int64\n",
      "\tMemory Usage: 637992 bytes\n",
      "\tNum Unique Values: 79749\n",
      "\tMIN: 1\n",
      "\tMAX: 427797\n",
      "\tPreview: [ 1  3 18 36 40 41 42 43 45 46]\n",
      "\n",
      "\n",
      "Name: Coordinates\n",
      "\tShape: (79749, 2)\n",
      "\tSize: 159498\n",
      "\tDimensions: 2\n",
      "\tDtype: float64\n",
      "\tMemory Usage: 1275984 bytes\n",
      "\tNum Unique Values: 88\n",
      "\tMIN: -55.2\n",
      "\tMAX: -3.33\n",
      "\tPreview: [[ -4.39 -55.2 ]\n",
      " [ -4.39 -55.2 ]\n",
      " [ -4.39 -55.2 ]\n",
      " [ -4.39 -55.2 ]\n",
      " [ -4.39 -55.2 ]\n",
      " [ -4.39 -55.2 ]\n",
      " [ -4.39 -55.2 ]\n",
      " [ -4.39 -55.2 ]\n",
      " [ -4.39 -55.2 ]\n",
      " [ -4.39 -55.2 ]]\n",
      "\n",
      "\n",
      "Name: Dates\n",
      "\tShape: (79749,)\n",
      "\tSize: 79749\n",
      "\tDimensions: 1\n",
      "\tDtype: <U10\n",
      "\tMemory Usage: 3189960 bytes\n",
      "\tNum Unique Values: 334\n",
      "\tPreview: ['2018-12-18' '2018-12-28' '2019-03-13' '2019-06-11' '2019-07-01'\n",
      " '2019-07-06' '2019-07-11' '2019-07-16' '2019-07-26' '2019-07-31']\n",
      "\n",
      "\n",
      "Name: Diffs\n",
      "\tShape: (78048,)\n",
      "\tSize: 78048\n",
      "\tDimensions: 1\n",
      "\tDtype: int64\n",
      "\tMemory Usage: 624384 bytes\n",
      "\tNum Unique Values: 144\n",
      "\tMIN: 2\n",
      "\tMAX: 485\n",
      "(Value, Count): (2, 3598) (3, 3671) (5, 27586) (7, 648) (8, 986) (10, 14890) (12, 428) (13, 263) (15, 5521) (17, 260) (18, 161) (20, 3096) (22, 159) (23, 197) (25, 2184) (27, 187) (28, 153) (30, 1471) (32, 78) (33, 33) (35, 1130) (37, 43) (38, 92) (40, 1208) (42, 37) (43, 32) (45, 750) (47, 66) (48, 35) (50, 1093) (52, 63) (53, 37) (55, 853) (57, 79) (58, 23) (60, 662) (62, 27) (63, 17) (65, 489) (67, 12) (68, 16) (70, 312) (72, 40) (73, 13) (75, 393) (77, 14) (78, 6) (80, 376) (82, 19) (83, 8) (85, 405) (87, 21) (88, 5) (90, 318) (92, 13) (93, 14) (95, 376) (97, 7) (98, 32) (100, 272) (102, 15) (103, 7) (105, 323) (107, 8) (108, 6) (110, 282) (112, 1) (113, 4) (115, 162) (117, 1) (118, 4) (120, 114) (122, 5) (123, 2) (125, 138) (128, 1) (130, 146) (132, 1) (133, 1) (135, 164) (137, 4) (140, 166) (142, 1) (143, 1) (145, 230) (148, 1) (150, 84) (152, 2) (155, 131) (157, 1) (160, 66) (162, 1) (163, 1) (165, 134) (167, 1) (168, 1) (170, 41) (172, 4) (175, 95) (177, 1) (180, 110) (185, 63) (187, 1) (188, 1) (190, 50) (195, 53) (200, 33) (205, 47) (210, 18) (212, 1) (215, 26) (220, 44) (225, 24) (230, 28) (235, 35) (240, 12) (245, 9) (250, 18) (255, 33) (260, 3) (265, 17) (270, 17) (275, 16) (280, 9) (285, 1) (290, 4) (295, 1) (300, 1) (315, 1) (365, 1) (370, 18) (375, 8) (380, 2) (385, 4) (395, 1) (405, 1) (410, 1) (415, 1) (430, 1) (445, 1) (450, 1) (455, 1) (470, 1) (485, 1) \tPreview: [10 75 90 20  5  5  5 10  5 10]\n",
      "\n"
     ]
    },
    {
     "data": {
      "image/png": "[encoded data removed]",
      "text/plain": [
       "<Figure size 1000x600 with 1 Axes>"
      ]
     },
     "metadata": {},
     "output_type": "display_data"
    }
   ],
   "source": [
    "# Get Valid Images Indexes\n",
    "valid_image_indexes = np.load('sent2_valid_image_index.npy')\n",
    "np_metadata(valid_image_indexes, 'Valid Image Indexes')\n",
    "\n",
    "# Retrieve Metadata: COORDS, DATES, IMAGES\n",
    "if COORDS.shape[0] == 2: COORDS = COORDS.T\n",
    "if not COORDS.shape[0] == valid_image_indexes.shape[0]: COORDS = COORDS[valid_image_indexes]\n",
    "if not DATES.shape[0] == valid_image_indexes.shape[0]: DATES = DATES[valid_image_indexes]\n",
    "np_metadata(COORDS, 'Coordinates')\n",
    "np_metadata(DATES, 'Dates')\n",
    "\n",
    "DATES_NUM = [delta_from_date_date(date, date0='2018-12-13') for date in DATES]\n",
    "COORD_DATE_DICT = defaultdict(list)\n",
    "COORD_DATE_INDEX_DICT = {}\n",
    "for i in range(len(COORDS)):\n",
    "    COORD_DATE_DICT[tuple(COORDS[i])].append(DATES_NUM[i])\n",
    "    COORD_DATE_INDEX_DICT[(tuple(COORDS[i]), DATES_NUM[i])] = valid_image_indexes[i]\n",
    "diffs = []\n",
    "DIFFS_TO_PAIRS = defaultdict(list)\n",
    "for key in COORD_DATE_DICT.keys():\n",
    "    dates = COORD_DATE_DICT[key]\n",
    "    dates = sorted(dates)\n",
    "    for i in range(1, len(dates)):\n",
    "        diffs.append(dates[i] - dates[i-1])\n",
    "        DIFFS_TO_PAIRS[dates[i] - dates[i-1]].append((COORD_DATE_INDEX_DICT[(key, dates[i-1])], COORD_DATE_INDEX_DICT[(key, dates[i])]))\n",
    "diffs = np.array(diffs)\n",
    "np_metadata(diffs, 'Diffs', True, True)\n",
    "\n",
    "# plot distribution of diffs\n",
    "plt.figure(figsize=(10, 6))\n",
    "sns.histplot(diffs, bins=20, kde=True, color='blue')\n",
    "plt.title('Distribution of Diffs')\n",
    "plt.xlabel('Diffs')\n",
    "plt.ylabel('Frequency')\n",
    "plt.grid(axis='y', linestyle='--', alpha=0.6)\n",
    "plt.show()"
   ]
  },
  {
   "cell_type": "markdown",
   "metadata": {},
   "source": [
    "### Find Distribution of Frequencies for each Month"
   ]
  },
  {
   "cell_type": "code",
   "execution_count": 10,
   "metadata": {},
   "outputs": [
    {
     "name": "stdout",
     "output_type": "stream",
     "text": [
      "\n",
      "Name: Year-Month Frequency\n",
      "\tShape: (37,)\n",
      "\tSize: 37\n",
      "\tDimensions: 1\n",
      "\tDtype: int64\n",
      "\tMemory Usage: 296 bytes\n",
      "\tNum Unique Values: 37\n",
      "\tMIN: 65\n",
      "\tMAX: 9361\n",
      "(Value, Count): (65, 1) (84, 1) (122, 1) (241, 1) (254, 1) (298, 1) (349, 1) (355, 1) (370, 1) (372, 1) (465, 1) (482, 1) (516, 1) (628, 1) (680, 1) (771, 1) (783, 1) (837, 1) (895, 1) (1031, 1) (1045, 1) (1224, 1) (1502, 1) (1811, 1) (1895, 1) (2039, 1) (2328, 1) (3167, 1) (4257, 1) (4473, 1) (4926, 1) (4961, 1) (5491, 1) (5947, 1) (6736, 1) (8988, 1) (9361, 1) \tPreview: [ 65  84 122 241 254 298 349 355 370 372]\n",
      "\n"
     ]
    },
    {
     "data": {
      "image/png": "[encoded data removed]",
      "text/plain": [
       "<Figure size 1000x100 with 1 Axes>"
      ]
     },
     "metadata": {},
     "output_type": "display_data"
    }
   ],
   "source": [
    "DATE_YEAR_MONTH_DICT = defaultdict(int)\n",
    "for date in DATES:\n",
    "    DATE_YEAR_MONTH_DICT[date[:7]] += 1\n",
    "values = np.array(sorted(list(DATE_YEAR_MONTH_DICT.values())))\n",
    "np_metadata(values, 'Year-Month Frequency', True, True)\n",
    "\n",
    "# plot distribution of dates on a horizontal boxplot\n",
    "plt.figure(figsize=(10, 1))\n",
    "sns.boxplot(x=values, color='yellow')\n",
    "plt.title('Year-Month Frequencies')\n",
    "plt.xlabel('Frequency')\n",
    "plt.grid(axis='x', linestyle='--', alpha=0.6)\n",
    "plt.show()"
   ]
  },
  {
   "cell_type": "markdown",
   "metadata": {},
   "source": [
    "# Look into Coordinate Distribution"
   ]
  },
  {
   "cell_type": "code",
   "execution_count": 21,
   "metadata": {},
   "outputs": [
    {
     "name": "stdout",
     "output_type": "stream",
     "text": [
      "(79749, 2)\n",
      "(79749,)\n",
      "Number of Unique Locations: 1701\n",
      "\n",
      "Name: Location Totals\n",
      "\tShape: (1701,)\n",
      "\tSize: 1701\n",
      "\tDimensions: 1\n",
      "\tDtype: int64\n",
      "\tMemory Usage: 13608 bytes\n",
      "\tNum Unique Values: 81\n",
      "\tMIN: 3\n",
      "\tMAX: 112\n",
      "(Value, Count): (3, 1) (4, 1) (5, 1) (21, 2) (22, 3) (24, 6) (25, 6) (26, 2) (27, 6) (28, 11) (29, 8) (30, 18) (31, 16) (32, 34) (33, 34) (34, 50) (35, 53) (36, 53) (37, 63) (38, 72) (39, 73) (40, 83) (41, 88) (42, 90) (43, 89) (44, 98) (45, 74) (46, 57) (47, 54) (48, 60) (49, 46) (50, 30) (51, 40) (52, 38) (53, 26) (54, 15) (55, 20) (56, 10) (57, 15) (58, 8) (59, 3) (60, 11) (61, 3) (62, 1) (63, 4) (64, 4) (65, 2) (66, 4) (67, 10) (68, 6) (69, 15) (70, 10) (71, 8) (72, 6) (73, 8) (74, 16) (75, 12) (76, 14) (77, 11) (78, 12) (79, 7) (80, 8) (81, 9) (82, 7) (83, 6) (84, 5) (85, 6) (86, 7) (87, 6) (88, 6) (89, 1) (91, 3) (92, 3) (93, 2) (94, 4) (95, 2) (98, 1) (101, 1) (106, 1) (109, 1) (112, 1) \tPreview: [43 41 40 39 39 44 41 34 39 36]\n",
      "\n"
     ]
    },
    {
     "data": {
      "image/png": "[encoded data removed]",
      "text/plain": [
       "<Figure size 1000x600 with 1 Axes>"
      ]
     },
     "metadata": {},
     "output_type": "display_data"
    }
   ],
   "source": [
    "print(COORDS.shape)\n",
    "DATES_NUM = np.array(DATES_NUM)\n",
    "print(DATES_NUM.shape)\n",
    "\n",
    "COORD_DICT = defaultdict(int)\n",
    "for coord in COORDS:\n",
    "    COORD_DICT[tuple(coord)] += 1\n",
    "print('Number of Unique Locations:', len(COORD_DICT.keys()))\n",
    "COORDINATE_TOTALS = np.array(list(COORD_DICT.values()))\n",
    "np_metadata(COORDINATE_TOTALS, 'Location Totals', True, True)\n",
    "\n",
    "# plot distribution of locations\n",
    "plt.figure(figsize=(10, 6))\n",
    "sns.histplot(COORDINATE_TOTALS, bins=20, kde=True, color='orange')\n",
    "plt.title('Distribution of Locations')\n",
    "plt.xlabel('Number of Images')\n",
    "plt.ylabel('Frequency')\n",
    "plt.grid(axis='y', linestyle='--', alpha=0.6)\n",
    "plt.show()"
   ]
  },
  {
   "cell_type": "markdown",
   "metadata": {},
   "source": [
    "# Split Data 90% Train 10% Test"
   ]
  },
  {
   "cell_type": "code",
   "execution_count": 35,
   "metadata": {},
   "outputs": [
    {
     "name": "stdout",
     "output_type": "stream",
     "text": [
      "Total Number of Data Points: 79749\n",
      "\n",
      "Attempt: 1\n",
      "Coordination Percentage: 99.06%\n",
      "Dates Percentage: 100.00%\n",
      "\n",
      "Name: Train Indexes\n",
      "\tShape: (78251,)\n",
      "\tSize: 78251\n",
      "\tDimensions: 1\n",
      "\tDtype: int64\n",
      "\tMemory Usage: 626008 bytes\n",
      "\tNum Unique Values: 78251\n",
      "\tMIN: 1\n",
      "\tMAX: 427797\n",
      "\tPreview: [ 1  3 18 36 40 41 42 43 45 48]\n",
      "\n",
      "\n",
      "Name: Test Indexes\n",
      "\tShape: (7974,)\n",
      "\tSize: 7974\n",
      "\tDimensions: 1\n",
      "\tDtype: int64\n",
      "\tMemory Usage: 63792 bytes\n",
      "\tNum Unique Values: 7974\n",
      "\tMIN: 4\n",
      "\tMAX: 79726\n",
      "\tPreview: [41046  8826  2748 73725 40341 10336  3244 71390 51806 24283]\n",
      "\n"
     ]
    }
   ],
   "source": [
    "# Split into 90% Train and 10% Test\n",
    "# The Test Set should have at least 99% of locations\n",
    "# The Test Set should have every date\n",
    "\n",
    "num_data_points = valid_image_indexes.shape[0]\n",
    "total_locations = len(COORD_DICT.keys())\n",
    "total_dates = len(DATE_YEAR_MONTH_DICT.keys())\n",
    "print('Total Number of Data Points:', num_data_points)\n",
    "\n",
    "def split_train_test(num_data_points, test_size=0.1):\n",
    "    test_size = int(num_data_points * test_size)\n",
    "    test_indexes = np.random.choice(num_data_points, test_size, replace=False)\n",
    "    train_indexes = np.array([idx for idx in valid_image_indexes if idx not in test_indexes])\n",
    "    return train_indexes, test_indexes\n",
    "\n",
    "def check_test_set_validity(test_indexes):\n",
    "    test_coords = COORDS[test_indexes]\n",
    "    test_coord_dict = defaultdict(int)\n",
    "    for i in range(test_coords.shape[0]):\n",
    "        test_coord_dict[tuple(test_coords[i])] += 1\n",
    "\n",
    "    test_dates = DATES[test_indexes]\n",
    "    test_dates_dict = defaultdict(int)\n",
    "    for date in test_dates:\n",
    "        test_dates_dict[date[:7]] += 1\n",
    "\n",
    "    coordinate_percentage = 1.0 * len(test_coord_dict.keys()) / total_locations\n",
    "    dates_percentage = 1.0 * len(test_dates_dict.keys()) / total_dates\n",
    "\n",
    "    if len(test_coord_dict.keys()) < 0.99 * total_locations:\n",
    "        return False, coordinate_percentage, dates_percentage\n",
    "    if len(test_dates_dict.keys()) < total_dates:\n",
    "        return False, coordinate_percentage, dates_percentage\n",
    "\n",
    "    return True, coordinate_percentage, dates_percentage\n",
    "\n",
    "def find_split(attempts = 10):\n",
    "    idx = 0\n",
    "    while idx < attempts:\n",
    "        print()\n",
    "        print(\"Attempt:\", idx+1)\n",
    "        train_indexes, test_indexes = split_train_test(num_data_points)\n",
    "        works, coord_percentage, dates_percentage = check_test_set_validity(test_indexes) \n",
    "        print(f'Coordination Percentage: {coord_percentage * 100:.2f}%')\n",
    "        print(f'Dates Percentage: {dates_percentage * 100:.2f}%')\n",
    "        if works:\n",
    "            return train_indexes, test_indexes\n",
    "        idx += 1\n",
    "        \n",
    "train_indexes, test_indexes = find_split(attempts=20)\n",
    "np_metadata(train_indexes, 'Train Indexes')\n",
    "np_metadata(test_indexes, 'Test Indexes')\n",
    "\n",
    "np.save('data_split/sent2_train_indexes.npy', train_indexes)\n",
    "np.save('data_split/sent2_test_indexes.npy', test_indexes)"
   ]
  },
  {
   "cell_type": "code",
   "execution_count": null,
   "metadata": {},
   "outputs": [],
   "source": []
  }
 ],
 "metadata": {
  "kernelspec": {
   "display_name": "multiearth",
   "language": "python",
   "name": "python3"
  },
  "language_info": {
   "codemirror_mode": {
    "name": "ipython",
    "version": 3
   },
   "file_extension": ".py",
   "mimetype": "text/x-python",
   "name": "python",
   "nbconvert_exporter": "python",
   "pygments_lexer": "ipython3",
   "version": "3.1.-1"
  }
 },
 "nbformat": 4,
 "nbformat_minor": 2
}
